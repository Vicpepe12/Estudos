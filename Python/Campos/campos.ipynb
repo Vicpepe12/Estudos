{
 "cells": [
  {
   "cell_type": "code",
   "execution_count": 1,
   "metadata": {},
   "outputs": [],
   "source": [
    "import pandas as pd\n",
    "import numpy as np\n",
    "import os"
   ]
  },
  {
   "cell_type": "code",
   "execution_count": 105,
   "metadata": {},
   "outputs": [],
   "source": [
    "dados = pd.read_csv('Campos.csv', sep=',')\n",
    "dadosArray = np.array(dados)\n",
    "\n",
    "flagsArray = []\n",
    "datasArray = []\n",
    "for i in dadosArray:\n",
    "    flagsArray.append(i[0])\n",
    "    datasArray.append(i[1])\n"
   ]
  },
  {
   "cell_type": "code",
   "execution_count": 106,
   "metadata": {},
   "outputs": [
    {
     "data": {
      "text/plain": [
       "\"'DS_REDUZIDA', 'IE_TIPO_MATERIAL', 'CD_UNIDADE_MEDIDA_COMPRA', 'CD_UNIDADE_MEDIDA_CONSUMO', 'CD_UNIDADE_MEDIDA_SOLIC', 'CD_MATERIAL_GENERICO', 'CD_MATERIAL_ESTOQUE', 'IE_VIA_APLICACAO', 'IE_SITUACAO', 'IE_OBRIG_VIA_APLICACAO', 'IE_RECEITA', 'IE_COBRA_PACIENTE', 'IE_INF_ULTIMA_COMPRA', 'IE_CURVA_ABC', 'NR_SEQ_FABRIC', 'QT_CONV_ESTOQUE_CONSUMO', 'QT_MINIMO_MULTIPLO_SOLIC', 'QT_PRIORIDADE_COML', 'NR_SEQ_FAMILIA', 'CD_MATERIAL_CONTA', 'IE_MATERIAL_ESTOQUE', 'IE_BAIXA_ESTOQ_PAC', 'IE_PADRONIZADO', 'IE_CURVA_XYZ', 'NR_REGISTRO_ANVISA', 'DT_VALIDADE_REG_ANVISA', 'IE_VIGENTE_ANVISA', 'IE_REG_ANVISA_ISENTO', 'DS_MOTIVO_ISENCAO_ANVISA', 'IE_UNID_CONSUMO_PRESCR', 'NR_SEQ_FICHA_TECNICA', 'IE_ALTO_RISCO', 'IE_MULTIDOSE', 'CD_MEDICAMENTO', 'IE_SOLUCAO', 'IE_CONTROLE_MEDICO', 'CD_UNIDADE_MEDIDA', 'IE_TEMPO_ESTAB', 'IE_REGRA', \""
      ]
     },
     "execution_count": 106,
     "metadata": {},
     "output_type": "execute_result"
    }
   ],
   "source": [
    "teste = ''\n",
    "\n",
    "for flag in flagsArray:\n",
    "    teste += '\\'' + flag + '\\'' + ', '\n",
    "\n",
    "teste\n"
   ]
  },
  {
   "cell_type": "code",
   "execution_count": 107,
   "metadata": {},
   "outputs": [
    {
     "data": {
      "text/plain": [
       "['flag_ds_reduzida',\n",
       " 'flag_ie_tipo_material',\n",
       " 'flag_cd_unidade_medida_compra',\n",
       " 'flag_cd_unidade_medida_consumo',\n",
       " 'flag_cd_unidade_medida_solic',\n",
       " 'flag_cd_material_generico',\n",
       " 'flag_cd_material_estoque',\n",
       " 'flag_ie_via_aplicacao',\n",
       " 'flag_ie_situacao',\n",
       " 'flag_ie_obrig_via_aplicacao',\n",
       " 'flag_ie_receita',\n",
       " 'flag_ie_cobra_paciente',\n",
       " 'flag_ie_inf_ultima_compra',\n",
       " 'flag_ie_curva_abc',\n",
       " 'flag_nr_seq_fabric',\n",
       " 'flag_qt_conv_estoque_consumo',\n",
       " 'flag_qt_minimo_multiplo_solic',\n",
       " 'flag_qt_prioridade_coml',\n",
       " 'flag_nr_seq_familia',\n",
       " 'flag_cd_material_conta',\n",
       " 'flag_ie_material_estoque',\n",
       " 'flag_ie_baixa_estoq_pac',\n",
       " 'flag_ie_padronizado',\n",
       " 'flag_ie_curva_xyz',\n",
       " 'flag_nr_registro_anvisa',\n",
       " 'flag_dt_validade_reg_anvisa',\n",
       " 'flag_ie_vigente_anvisa',\n",
       " 'flag_ie_reg_anvisa_isento',\n",
       " 'flag_ds_motivo_isencao_anvisa',\n",
       " 'flag_ie_unid_consumo_prescr',\n",
       " 'flag_nr_seq_ficha_tecnica',\n",
       " 'flag_ie_alto_risco',\n",
       " 'flag_ie_multidose',\n",
       " 'flag_cd_medicamento',\n",
       " 'flag_ie_solucao',\n",
       " 'flag_ie_controle_medico',\n",
       " 'flag_cd_unidade_medida',\n",
       " 'flag_ie_tempo_estab',\n",
       " 'flag_ie_regra']"
      ]
     },
     "execution_count": 107,
     "metadata": {},
     "output_type": "execute_result"
    }
   ],
   "source": [
    "tabelas = []\n",
    "for flag in flagsArray:\n",
    "    tabelas.append('flag_' + flag.lower())\n",
    "tabelas"
   ]
  },
  {
   "cell_type": "code",
   "execution_count": 108,
   "metadata": {},
   "outputs": [
    {
     "data": {
      "text/plain": [
       "['dt_san_ds_reduzida',\n",
       " 'dt_san_ie_tipo_material',\n",
       " 'dt_san_cd_unidade_medida_compra',\n",
       " 'dt_san_cd_unidade_medida_consumo',\n",
       " 'dt_san_cd_unidade_medida_solic',\n",
       " 'dt_san_cd_material_generico',\n",
       " 'dt_san_cd_material_estoque',\n",
       " 'dt_san_ie_via_aplicacao',\n",
       " 'dt_san_ie_situacao',\n",
       " 'dt_san_ie_obrig_via_aplicacao',\n",
       " 'dt_san_ie_receita',\n",
       " 'dt_san_ie_cobra_paciente',\n",
       " 'dt_san_ie_inf_ultima_compra',\n",
       " 'dt_san_ie_curva_abc',\n",
       " 'dt_san_nr_seq_fabric',\n",
       " 'dt_san_qt_conv_estoque_consumo',\n",
       " 'dt_san_qt_minimo_multiplo_solic',\n",
       " 'dt_san_qt_prioridade_coml',\n",
       " 'dt_san_nr_seq_familia',\n",
       " 'dt_san_cd_material_conta',\n",
       " 'dt_san_ie_material_estoque',\n",
       " 'dt_san_ie_baixa_estoq_pac',\n",
       " 'dt_san_ie_padronizado',\n",
       " 'dt_san_ie_curva_xyz',\n",
       " 'dt_san_nr_registro_anvisa',\n",
       " 'dt_san_dt_san_validade_reg_anvisa',\n",
       " 'dt_san_ie_vigente_anvisa',\n",
       " 'dt_san_ie_reg_anvisa_isento',\n",
       " 'dt_san_ds_motivo_isencao_anvisa',\n",
       " 'dt_san_ie_unid_consumo_prescr',\n",
       " 'dt_san_nr_seq_ficha_tecnica',\n",
       " 'dt_san_ie_alto_risco',\n",
       " 'dt_san_ie_multidose',\n",
       " 'dt_san_cd_medicamento',\n",
       " 'dt_san_ie_solucao',\n",
       " 'dt_san_ie_controle_medico',\n",
       " 'dt_san_cd_unidade_medida',\n",
       " 'dt_san_ie_tempo_estab',\n",
       " 'dt_san_ie_regra']"
      ]
     },
     "execution_count": 108,
     "metadata": {},
     "output_type": "execute_result"
    }
   ],
   "source": [
    "datasTabelas = []\n",
    "for data in datasArray:\n",
    "    datasTabelas.append(data.lower())\n",
    "datasTabelas"
   ]
  },
  {
   "cell_type": "code",
   "execution_count": 109,
   "metadata": {},
   "outputs": [
    {
     "name": "stdout",
     "output_type": "stream",
     "text": [
      "UPDATE \n",
      "    analytics.gcm_saneamento\n",
      "SET\n",
      "   flag_tipo_saneamento = CASE WHEN saneamento_materiais.flag_ = 'Sim' \n",
      "                              AND saneamento_materiais.dt_::DATE <= gcm_saneamento.dt_alteracao::DATE\n",
      "                              AND gcm_saneamento.flag_tipo = 'Carga' THEN 'Saneamento em Produção'\n",
      "                         END\n",
      ", flag_ajuste_pos_saneamento = CASE WHEN saneamento_materiais.flag_ = 'Sim'\n",
      "                                      AND saneamento_materiais.dt_::DATE < gcm_saneamento.dt_alteracao::DATE\n",
      "                                      AND gcm_saneamento.flag_tipo NOT IN ('Carga') THEN 'Sim'\n",
      "                                     ELSE 'Não'\n",
      "                               END\n",
      ", qtd_ajuste_pos_saneamento = CASE WHEN saneamento_materiais.flag_ = 'Sim'\n",
      "                                   AND saneamento_materiais.dt_::DATE < gcm_saneamento.dt_alteracao::DATE\n",
      "                                   AND gcm_saneamento.flag_tipo NOT IN ('Carga') THEN 1\n",
      "                                   ELSE 0\n",
      "                              END\n",
      "FROM\n",
      "    ingestion.saneamento_materiais\n",
      "WHERE\n",
      "    saneamento_materiais.cd_material = gcm_saneamento.cd_material\n",
      "    AND gcm_saneamento.ds_campo = 'DADO_'\n",
      "    AND gcm_saneamento.ds_tabela = 'MATERIAL'\n",
      ";\n",
      "\n"
     ]
    }
   ],
   "source": [
    "def setLinha(flag, data, dado):\n",
    "    return f'UPDATE \\n    analytics.gcm_saneamento\\nSET\\n   flag_tipo_saneamento = CASE WHEN saneamento_materiais.{flag} = \\'Sim\\' \\n                              AND saneamento_materiais.{data}::DATE <= gcm_saneamento.dt_alteracao::DATE\\n                              AND gcm_saneamento.flag_tipo = \\'Carga\\' THEN \\'Saneamento em Produção\\'\\n                         END\\n, flag_ajuste_pos_saneamento = CASE WHEN saneamento_materiais.{flag} = \\'Sim\\'\\n                                      AND saneamento_materiais.{data}::DATE < gcm_saneamento.dt_alteracao::DATE\\n                                      AND gcm_saneamento.flag_tipo NOT IN (\\'Carga\\') THEN \\'Sim\\'\\n                                     ELSE \\'Não\\'\\n                               END\\n, qtd_ajuste_pos_saneamento = CASE WHEN saneamento_materiais.{flag} = \\'Sim\\'\\n                                   AND saneamento_materiais.{data}::DATE < gcm_saneamento.dt_alteracao::DATE\\n                                   AND gcm_saneamento.flag_tipo NOT IN (\\'Carga\\') THEN 1\\n                                   ELSE 0\\n                              END\\nFROM\\n    ingestion.saneamento_materiais\\nWHERE\\n    saneamento_materiais.cd_material = gcm_saneamento.cd_material\\n    AND gcm_saneamento.ds_campo = \\'{dado}\\'\\n    AND gcm_saneamento.ds_tabela = \\'MATERIAL\\'\\n;\\n'\n",
    "\n",
    "print(setLinha('flag_', 'dt_', 'DADO_'))"
   ]
  },
  {
   "cell_type": "code",
   "execution_count": 118,
   "metadata": {},
   "outputs": [
    {
     "name": "stdout",
     "output_type": "stream",
     "text": [
      "UPDATE \n",
      "    analytics.gcm_saneamento\n",
      "SET\n",
      "   flag_tipo_saneamento = CASE WHEN saneamento_materiais.flag_cd_medicamento = 'Sim' \n",
      "                              AND saneamento_materiais.dt_san_cd_medicamento::DATE <= gcm_saneamento.dt_alteracao::DATE\n",
      "                              AND gcm_saneamento.flag_tipo = 'Carga' THEN 'Saneamento em Produção'\n",
      "                         END\n",
      ", flag_ajuste_pos_saneamento = CASE WHEN saneamento_materiais.flag_cd_medicamento = 'Sim'\n",
      "                                      AND saneamento_materiais.dt_san_cd_medicamento::DATE < gcm_saneamento.dt_alteracao::DATE\n",
      "                                      AND gcm_saneamento.flag_tipo NOT IN ('Carga') THEN 'Sim'\n",
      "                                     ELSE 'Não'\n",
      "                               END\n",
      ", qtd_ajuste_pos_saneamento = CASE WHEN saneamento_materiais.flag_cd_medicamento = 'Sim'\n",
      "                                   AND saneamento_materiais.dt_san_cd_medicamento::DATE < gcm_saneamento.dt_alteracao::DATE\n",
      "                                   AND gcm_saneamento.flag_tipo NOT IN ('Carga') THEN 1\n",
      "                                   ELSE 0\n",
      "                              END\n",
      "FROM\n",
      "    ingestion.saneamento_materiais\n",
      "WHERE\n",
      "    saneamento_materiais.cd_material = gcm_saneamento.cd_material\n",
      "    AND gcm_saneamento.ds_campo = 'CD_MEDICAMENTO'\n",
      "    AND gcm_saneamento.ds_tabela = 'MATERIAL'\n",
      ";\n",
      "\n"
     ]
    }
   ],
   "source": [
    "if os.path.exists(\"script.txt\"):\n",
    "    os.remove(\"script.txt\")\n",
    "\n",
    "texto = open('script.txt', 'a')\n",
    "qtde = 0\n",
    "\n",
    "for i in range(len(flagsArray)):\n",
    "    texto.write('\\n' + setLinha(tabelas[i], datasTabelas[i],flagsArray[i]))\n",
    "    if i == 33:\n",
    "        print(setLinha(tabelas[i], datasTabelas[i],flagsArray[i]))\n",
    "texto.close()\n"
   ]
  },
  {
   "cell_type": "code",
   "execution_count": 112,
   "metadata": {},
   "outputs": [
    {
     "data": {
      "text/plain": [
       "\"UPDATE \\n    analytics.gcm_saneamento\\nSET\\n   flag_tipo_saneamento = CASE WHEN saneamento_materiais.flag_cd_unidade_medida = 'Sim' \\n                              AND saneamento_materiais.dt_san_cd_unidade_medida::DATE <= gcm_saneamento.dt_alteracao::DATE\\n                              AND gcm_saneamento.flag_tipo = 'Carga' THEN 'Saneamento em Produção'\\n                         END\\n, flag_ajuste_pos_saneamento = CASE WHEN saneamento_materiais.flag_cd_unidade_medida = 'Sim'\\n                                      AND saneamento_materiais.dt_san_cd_unidade_medida::DATE < gcm_saneamento.dt_alteracao::DATE\\n                                      AND gcm_saneamento.flag_tipo NOT IN ('Carga') THEN 'Sim'\\n                                     ELSE 'Não'\\n                               END\\n, qtd_ajuste_pos_saneamento = CASE WHEN saneamento_materiais.flag_cd_unidade_medida = 'Sim'\\n                                   AND saneamento_materiais.dt_san_cd_unidade_medida::DATE < gcm_saneamento.dt_alteracao::DATE\\n                                   AND gcm_saneamento.flag_tipo NOT IN ('Carga') THEN 1\\n                                   ELSE 0\\n                              END\\nFROM\\n    ingestion.saneamento_materiais\\nWHERE\\n    saneamento_materiais.cd_material = gcm_saneamento.cd_material\\n    AND gcm_saneamento.ds_campo = 'CD_UNIDADE_MEDIDA'\\n    AND gcm_saneamento.ds_tabela = 'MATERIAL'\\n;\\n\""
      ]
     },
     "execution_count": 112,
     "metadata": {},
     "output_type": "execute_result"
    }
   ],
   "source": [
    "setLinha(tabelas[36], datasTabelas[36], flagsArray[36])\n",
    "\n"
   ]
  }
 ],
 "metadata": {
  "kernelspec": {
   "display_name": "Python 3",
   "language": "python",
   "name": "python3"
  },
  "language_info": {
   "codemirror_mode": {
    "name": "ipython",
    "version": 3
   },
   "file_extension": ".py",
   "mimetype": "text/x-python",
   "name": "python",
   "nbconvert_exporter": "python",
   "pygments_lexer": "ipython3",
   "version": "3.10.7"
  },
  "orig_nbformat": 4,
  "vscode": {
   "interpreter": {
    "hash": "aee8b7b246df8f9039afb4144a1f6fd8d2ca17a180786b69acc140d282b71a49"
   }
  }
 },
 "nbformat": 4,
 "nbformat_minor": 2
}
