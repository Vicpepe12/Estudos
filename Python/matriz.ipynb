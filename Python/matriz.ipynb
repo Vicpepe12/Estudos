{
 "cells": [
  {
   "cell_type": "code",
   "execution_count": 18,
   "metadata": {},
   "outputs": [
    {
     "data": {
      "text/plain": [
       "[21]"
      ]
     },
     "execution_count": 18,
     "metadata": {},
     "output_type": "execute_result"
    }
   ],
   "source": [
    "from sympy import *\n",
    "i, o, f1, f2, d, ri, ro= symbols(\"i o f_1 f_2 d r_i r_o\")\n",
    "\n",
    "\n",
    "Mi = Matrix(2, 2, [1, i, 0, 1])\n",
    "Mo = Matrix(2, 2, [1, o, 0, 1])\n",
    "M1 = Matrix(2, 2, [1, 0, - 1/f1, 1])\n",
    "M2 = Matrix(2, 2, [1, 0, -1/f2, 1])\n",
    "Md = Matrix(2, 2, [1, d, 0, 1])\n",
    "Ri = Matrix(2, 1, [20*ro, 0])\n",
    "Ro = Matrix(2, 1, [ro , 0])\n",
    "\n",
    "M = Mi*M2*Md*M1*Mo\n",
    "expr = Eq((M*Ro)[1,0] - Ri[1,0],0)\n",
    "equacao = simplify(expr)\n",
    "subs = equacao.subs(f1, 1).subs(f2, 20)\n",
    "solve(subs, d)"
   ]
  },
  {
   "cell_type": "code",
   "execution_count": 15,
   "metadata": {},
   "outputs": [
    {
     "data": {
      "text/latex": [
       "$\\displaystyle \\left[\\begin{matrix}r_{o} \\left(1 - \\frac{i}{f_{2}} - \\frac{d \\left(1 - \\frac{i}{f_{2}}\\right) + i}{f_{1}}\\right)\\\\r_{o} \\left(- \\frac{1}{f_{2}} - \\frac{- \\frac{d}{f_{2}} + 1}{f_{1}}\\right)\\end{matrix}\\right]$"
      ],
      "text/plain": [
       "Matrix([\n",
       "[r_o*(1 - i/f_2 - (d*(1 - i/f_2) + i)/f_1)],\n",
       "[          r_o*(-1/f_2 - (-d/f_2 + 1)/f_1)]])"
      ]
     },
     "execution_count": 15,
     "metadata": {},
     "output_type": "execute_result"
    }
   ],
   "source": []
  },
  {
   "cell_type": "code",
   "execution_count": null,
   "metadata": {},
   "outputs": [],
   "source": [
    "# Teste testando belle balinha"
   ]
  }
 ],
 "metadata": {
  "kernelspec": {
   "display_name": "Python 3.10.7 64-bit",
   "language": "python",
   "name": "python3"
  },
  "language_info": {
   "codemirror_mode": {
    "name": "ipython",
    "version": 3
   },
   "file_extension": ".py",
   "mimetype": "text/x-python",
   "name": "python",
   "nbconvert_exporter": "python",
   "pygments_lexer": "ipython3",
   "version": "3.10.7"
  },
  "orig_nbformat": 4,
  "vscode": {
   "interpreter": {
    "hash": "aee8b7b246df8f9039afb4144a1f6fd8d2ca17a180786b69acc140d282b71a49"
   }
  }
 },
 "nbformat": 4,
 "nbformat_minor": 2
}
