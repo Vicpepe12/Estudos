{
 "cells": [
  {
   "cell_type": "markdown",
   "metadata": {},
   "source": [
    "# Exercício 9"
   ]
  },
  {
   "cell_type": "code",
   "execution_count": 1,
   "metadata": {},
   "outputs": [],
   "source": [
    "\n",
    "import sympy as sp"
   ]
  },
  {
   "cell_type": "code",
   "execution_count": 2,
   "metadata": {},
   "outputs": [
    {
     "data": {
      "text/latex": [
       "$\\displaystyle \\frac{qe \\left(1 + \\frac{r}{a_{0}}\\right) e^{- \\frac{2 r}{a_{0}}}}{4 \\pi \\epsilon_{0} r}$"
      ],
      "text/plain": [
       "qe*(1 + r/a0)*exp(-2*r/a0)/(4*pi*epsilon0*r)"
      ]
     },
     "execution_count": 2,
     "metadata": {},
     "output_type": "execute_result"
    }
   ],
   "source": [
    "r, qe, epsilon0, a0 = sp.symbols('r qe epsilon0 a0')\n",
    "\n",
    "# Função potencial\n",
    "Phi = (qe/(4*sp.pi*epsilon0))*(sp.exp(-2*r/a0)/r)*(1 + r/a0)\n",
    "Phi"
   ]
  },
  {
   "cell_type": "code",
   "execution_count": 3,
   "metadata": {},
   "outputs": [],
   "source": [
    "# Cálculo da função potencial\n",
    "laplacian_Phi = (1/r**2)*sp.diff(r**2*sp.diff(Phi, r), r)\n",
    "\n",
    "# Simplificação\n",
    "laplacian_Phi_simplified = sp.simplify(laplacian_Phi)\n"
   ]
  },
  {
   "cell_type": "code",
   "execution_count": 5,
   "metadata": {},
   "outputs": [
    {
     "data": {
      "text/latex": [
       "$\\displaystyle \\frac{r^{2} \\left(\\frac{qe \\left(1 + \\frac{r}{a_{0}}\\right) e^{- \\frac{2 r}{a_{0}}}}{2 \\pi \\epsilon_{0} r^{3}} + \\frac{qe \\left(1 + \\frac{r}{a_{0}}\\right) e^{- \\frac{2 r}{a_{0}}}}{\\pi a_{0} \\epsilon_{0} r^{2}} - \\frac{qe e^{- \\frac{2 r}{a_{0}}}}{2 \\pi a_{0} \\epsilon_{0} r^{2}} + \\frac{qe \\left(1 + \\frac{r}{a_{0}}\\right) e^{- \\frac{2 r}{a_{0}}}}{\\pi a_{0}^{2} \\epsilon_{0} r} - \\frac{qe e^{- \\frac{2 r}{a_{0}}}}{\\pi a_{0}^{2} \\epsilon_{0} r}\\right) + 2 r \\left(- \\frac{qe \\left(1 + \\frac{r}{a_{0}}\\right) e^{- \\frac{2 r}{a_{0}}}}{4 \\pi \\epsilon_{0} r^{2}} - \\frac{qe \\left(1 + \\frac{r}{a_{0}}\\right) e^{- \\frac{2 r}{a_{0}}}}{2 \\pi a_{0} \\epsilon_{0} r} + \\frac{qe e^{- \\frac{2 r}{a_{0}}}}{4 \\pi a_{0} \\epsilon_{0} r}\\right)}{r^{2}}$"
      ],
      "text/plain": [
       "(r**2*(qe*(1 + r/a0)*exp(-2*r/a0)/(2*pi*epsilon0*r**3) + qe*(1 + r/a0)*exp(-2*r/a0)/(pi*a0*epsilon0*r**2) - qe*exp(-2*r/a0)/(2*pi*a0*epsilon0*r**2) + qe*(1 + r/a0)*exp(-2*r/a0)/(pi*a0**2*epsilon0*r) - qe*exp(-2*r/a0)/(pi*a0**2*epsilon0*r)) + 2*r*(-qe*(1 + r/a0)*exp(-2*r/a0)/(4*pi*epsilon0*r**2) - qe*(1 + r/a0)*exp(-2*r/a0)/(2*pi*a0*epsilon0*r) + qe*exp(-2*r/a0)/(4*pi*a0*epsilon0*r)))/r**2"
      ]
     },
     "execution_count": 5,
     "metadata": {},
     "output_type": "execute_result"
    }
   ],
   "source": [
    "laplacian_Phi"
   ]
  },
  {
   "cell_type": "code",
   "execution_count": 6,
   "metadata": {},
   "outputs": [
    {
     "data": {
      "text/latex": [
       "$\\displaystyle \\frac{qe e^{- \\frac{2 r}{a_{0}}}}{\\pi a_{0}^{3} \\epsilon_{0}}$"
      ],
      "text/plain": [
       "qe*exp(-2*r/a0)/(pi*a0**3*epsilon0)"
      ]
     },
     "execution_count": 6,
     "metadata": {},
     "output_type": "execute_result"
    }
   ],
   "source": [
    "laplacian_Phi_simplified"
   ]
  },
  {
   "cell_type": "markdown",
   "metadata": {},
   "source": [
    "# Exercício 10 "
   ]
  },
  {
   "cell_type": "markdown",
   "metadata": {},
   "source": [
    "1. **Cálculo da energia eletrostática associada à interação entre as cargas**: A energia eletrostática W de duas cargas pontuais q1 e q2 separadas por uma distância r é dada pela lei de Coulomb: $$W = k \\frac{q_1 q_2}{r}$$, onde k é a constante de Coulomb.\n",
    "\n",
    "2. **Cálculo da energia total armazenada na configuração**: A energia total Ue armazenada no campo elétrico E da configuração é dada pela integral: $$U_e = \\frac{\\epsilon_0}{2} \\int ||E||^2 d^3x$$, onde ε0 é a permissividade do espaço livre, e a integral é feita sobre todo o espaço.\n",
    "\n",
    "3. **Reorganização de Ue como Ue = U1 + U2 + Uint**: O campo elétrico E é a soma dos campos elétricos E1 e E2 devido às cargas q1 e q2, respectivamente. Portanto, podemos escrever $$||E||^2 = ||E1||^2 + ||E2||^2 + 2E1.E2$$. Substituindo isso na expressão para Ue, obtemos: $$U_e = \\frac{\\epsilon_0}{2} \\int (||E1||^2 + ||E2||^2 + 2E1.E2) d^3x$$. Isso pode ser reorganizado como Ue = U1 + U2 + Uint, onde U1 = ε0/2 ∫ ||E1||^2 d^3x é a energia eletrostática associada apenas ao campo E1, U2 = ε0/2 ∫ ||E2||^2 d^3x é a energia eletrostática associada apenas ao campo E2, e Uint = ε0 ∫ E1.E2 d^3x é a energia de interação envolvendo produtos cruzados entre os dois campos.\n",
    "\n",
    "4. **Prova de que Uint converge e é igual a W**: A energia de interação Uint envolve uma integral do produto escalar E1.E2. Para cargas pontuais, os campos elétricos E1 e E2 são inversamente proporcionais ao quadrado da distância das cargas. Portanto, o produto escalar E1.E2 é inversamente proporcional à quarta potência da distância, e a integral de E1.E2 sobre todo o espaço converge. Além disso, pode-se mostrar que Uint é exatamente igual à energia eletrostática W calculada no passo 1. Isso mostra que a energia total armazenada na configuração é de fato igual ao trabalho realizado para montar as cargas."
   ]
  },
  {
   "cell_type": "markdown",
   "metadata": {},
   "source": [
    "Teste"
   ]
  }
 ],
 "metadata": {
  "kernelspec": {
   "display_name": "Python 3",
   "language": "python",
   "name": "python3"
  },
  "language_info": {
   "codemirror_mode": {
    "name": "ipython",
    "version": 3
   },
   "file_extension": ".py",
   "mimetype": "text/x-python",
   "name": "python",
   "nbconvert_exporter": "python",
   "pygments_lexer": "ipython3",
   "version": "3.10.11"
  }
 },
 "nbformat": 4,
 "nbformat_minor": 2
}
