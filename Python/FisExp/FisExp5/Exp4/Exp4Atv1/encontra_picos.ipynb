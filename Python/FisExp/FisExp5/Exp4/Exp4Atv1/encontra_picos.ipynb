{
 "cells": [
  {
   "cell_type": "code",
   "execution_count": 1,
   "metadata": {},
   "outputs": [],
   "source": [
    "import numpy as np\n",
    "import pandas as pd"
   ]
  },
  {
   "cell_type": "code",
   "execution_count": 7,
   "metadata": {},
   "outputs": [
    {
     "name": "stderr",
     "output_type": "stream",
     "text": [
      "C:\\Users\\victo\\AppData\\Local\\Temp\\ipykernel_7060\\555834013.py:1: ParserWarning: Falling back to the 'python' engine because the 'c' engine does not support regex separators (separators > 1 char and different from '\\s+' are interpreted as regex); you can avoid this warning by specifying engine='python'.\n",
      "  dados = pd.read_csv('Dados/170-30-0,5-65.txt', sep=\"\\s\", decimal=\",\",header = 0)\n"
     ]
    },
    {
     "data": {
      "text/plain": [
       "[[10.61, 0.0926],\n",
       " [14.93, 0.186],\n",
       " [15.06, 0.186],\n",
       " [15.07, 0.186],\n",
       " [19.6, 0.3322],\n",
       " [24.2, 0.5396],\n",
       " [28.83, 0.8017]]"
      ]
     },
     "execution_count": 7,
     "metadata": {},
     "output_type": "execute_result"
    }
   ],
   "source": [
    "dados = pd.read_csv('Dados/170-30-0,5-65.txt', sep=\"\\s\", decimal=\",\",header = 0)\n",
    "dadosArray = np.array(dados)\n",
    "xData = []\n",
    "yData = []\n",
    "\n",
    "for i in dadosArray:\n",
    "    xData.append(float(i[0]))\n",
    "    yData.append(float(i[1]))\n",
    "\n",
    "picos = []\n",
    "\n",
    "\n",
    "for i in range(100, len(xData)):\n",
    "    if(xData[i] > 10 and yData[i]>=yData[i-1] and yData[i]>=yData[i+1] and yData[i]>=yData[i-3] and yData[i]>=yData[i+3] ):\n",
    "        picos.append([xData[i], yData[i]])\n",
    "\n",
    "picos"
   ]
  },
  {
   "cell_type": "code",
   "execution_count": 17,
   "metadata": {},
   "outputs": [
    {
     "name": "stdout",
     "output_type": "stream",
     "text": [
      "10.56 0.0469\n",
      "11.02 0.0484\n",
      "11.13 0.0484\n",
      "11.22 0.0484\n",
      "11.27 0.0484\n",
      "11.28 0.0484\n",
      "11.52 0.048\n",
      "11.66 0.0476\n",
      "11.79 0.0476\n",
      "12.19 0.0465\n",
      "12.46 0.0454\n",
      "12.65 0.045\n",
      "12.81 0.0443\n",
      "13.13 0.0435\n",
      "13.19 0.0435\n",
      "13.33 0.0435\n",
      "13.38 0.0435\n",
      "13.56 0.0439\n",
      "13.8 0.0446\n",
      "15.42 0.0596\n",
      "15.51 0.06\n",
      "15.58 0.0596\n",
      "17.54 0.0446\n",
      "17.79 0.0443\n",
      "17.89 0.0446\n",
      "19.91 0.0795\n",
      "19.96 0.0795\n",
      "22.1 0.0454\n",
      "22.32 0.0454\n",
      "24.5 0.1061\n",
      "29.04 0.1391\n"
     ]
    },
    {
     "name": "stderr",
     "output_type": "stream",
     "text": [
      "C:\\Users\\victo\\AppData\\Local\\Temp\\ipykernel_7060\\672977318.py:1: ParserWarning: Falling back to the 'python' engine because the 'c' engine does not support regex separators (separators > 1 char and different from '\\s+' are interpreted as regex); you can avoid this warning by specifying engine='python'.\n",
      "  dados = pd.read_csv('Dados/190-30-2,5-65.txt', sep=\"\\s\", decimal=\",\",header = 0)\n"
     ]
    }
   ],
   "source": [
    "dados = pd.read_csv('Dados/190-30-2,5-65.txt', sep=\"\\s\", decimal=\",\",header = 0)\n",
    "dadosArray = np.array(dados)\n",
    "xData = []\n",
    "yData = []\n",
    "\n",
    "for i in dadosArray:\n",
    "    xData.append(float(i[0]))\n",
    "    yData.append(float(i[1]))\n",
    "\n",
    "picos = []\n",
    "\n",
    "\n",
    "for i in range(100, len(xData)):\n",
    "    if(xData[i] > 10 and yData[i]>=yData[i-1] and yData[i]>=yData[i+1] and yData[i]>=yData[i-3] and yData[i]>=yData[i+3] ):\n",
    "        picos.append([xData[i], yData[i]])\n",
    "\n",
    "for pico in picos:\n",
    "    print(str(pico[0]) + ' ' + str(pico[1]))"
   ]
  }
 ],
 "metadata": {
  "kernelspec": {
   "display_name": "Python 3",
   "language": "python",
   "name": "python3"
  },
  "language_info": {
   "codemirror_mode": {
    "name": "ipython",
    "version": 3
   },
   "file_extension": ".py",
   "mimetype": "text/x-python",
   "name": "python",
   "nbconvert_exporter": "python",
   "pygments_lexer": "ipython3",
   "version": "3.10.10"
  },
  "orig_nbformat": 4
 },
 "nbformat": 4,
 "nbformat_minor": 2
}
