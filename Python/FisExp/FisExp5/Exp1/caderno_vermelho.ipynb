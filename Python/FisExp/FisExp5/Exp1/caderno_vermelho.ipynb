{
 "cells": [
  {
   "cell_type": "code",
   "execution_count": 1,
   "metadata": {},
   "outputs": [],
   "source": [
    "import os\n",
    "import numpy as np\n",
    "import pandas as pd\n",
    "import matplotlib.pyplot as plt\n",
    "import matplotlib.ticker as mticker\n",
    "from matplotlib.widgets import Cursor\n",
    "from scipy.optimize import curve_fit\n",
    "from scipy.optimize import differential_evolution\n",
    "from sympy import *\n",
    "plt.rcParams.update({'font.size': 12})\n",
    "formatter = mticker.ScalarFormatter(useMathText=True)\n",
    "plt.rcParams[\"axes.formatter.use_mathtext\"] = True"
   ]
  },
  {
   "cell_type": "code",
   "execution_count": 2,
   "metadata": {},
   "outputs": [],
   "source": [
    "dir_name_20 = './Dados/vermelho/20/' # sample dir\n",
    "dir_name_40 = './Dados/vermelho/40/' # sample dir\n",
    "dir_name_60 = './Dados/vermelho/60/' # sample dir\n",
    "dir_name_80 = './Dados/vermelho/80/' # sample dir\n",
    "dir_name_100 = './Dados/vermelho/100/' # sample dir"
   ]
  },
  {
   "cell_type": "code",
   "execution_count": 3,
   "metadata": {},
   "outputs": [],
   "source": [
    "def list_dir(dir_name, traversed = [], results = []): \n",
    "    dirs = os.listdir(dir_name)\n",
    "    if dirs:\n",
    "        for f in dirs:\n",
    "            new_dir = dir_name + f + '/'\n",
    "            if os.path.isdir(new_dir) and new_dir not in traversed:\n",
    "                traversed.append(new_dir)\n",
    "                list_dir(new_dir, traversed, results)\n",
    "            else:\n",
    "                results.append([new_dir[:-1], os.stat(new_dir[:-1])])  \n",
    "    return results\n",
    "\n",
    "def arquivos_lista(dir_name):\n",
    "    arquivos_lista = []\n",
    "    for file_name, stat in list_dir(dir_name):\n",
    "           arquivos_lista.append(file_name) # sample with file size\n",
    "    return arquivos_lista\n",
    "\n",
    "\n",
    "def dados(arquivos_lista):\n",
    "    arquivos = []\n",
    "    for arquivo in arquivos_lista:\n",
    "       df = pd.read_csv(arquivo, sep=\";\", decimal = ',')\n",
    "       dados_array = np.array(df)\n",
    "       arquivos.append(dados_array)\n",
    "    return arquivos\n",
    "\n",
    "def func(x, A, B):\n",
    "    return A*x + B\n",
    "\n",
    "def metodo1(diretorio):\n",
    "    dados_teste = dados(arquivos_lista(diretorio))\n",
    "    x_data = []\n",
    "    y_data = []\n",
    "    valores_V0_array = []\n",
    "    for i in range(len(dados_teste)):\n",
    "        ax = []\n",
    "        ay = []\n",
    "        for dado in dados_teste[i]:\n",
    "            ax.append(dado[0])\n",
    "            ay.append(dado[1])\n",
    "        x_data.append(ax)\n",
    "        y_data.append(ay)\n",
    "\n",
    "    for i in range(len(x_data)):\n",
    "        metodo1_x = []\n",
    "        metodo1_y = []\n",
    "        for j in range(len(x_data[i])):\n",
    "            if y_data[i][j] > 0:\n",
    "                metodo1_y.append(y_data[i][j-2])\n",
    "                metodo1_y.append(y_data[i][j-1])\n",
    "                metodo1_y.append(y_data[i][j])\n",
    "                metodo1_y.append(y_data[i][j+1])\n",
    "\n",
    "                metodo1_x.append(x_data[i][j-2])    \n",
    "                metodo1_x.append(x_data[i][j-1])    \n",
    "                metodo1_x.append(x_data[i][j])    \n",
    "                metodo1_x.append(x_data[i][j+1])    \n",
    "                break\n",
    "        popt, pcov = curve_fit(\n",
    "            f = func,\n",
    "            xdata = metodo1_x,\n",
    "            ydata = metodo1_y\n",
    "        )\n",
    "\n",
    "        par = popt\n",
    "        perr = np.sqrt(np.diag(pcov))\n",
    "\n",
    "        V0 = -par[1]/par[0]\n",
    "        sV0 = -V0*np.sqrt(perr[1]**2/par[1]**2 + perr[0]**2/par[0]**2)\n",
    "        valores_V0_array.append([V0, sV0])\n",
    "\n",
    "    valores_V0_df = pd.DataFrame(valores_V0_array)\n",
    "    return valores_V0_df.mean()\n",
    "\n",
    "def metodo2(diretorio):\n",
    "    dados_teste = dados(arquivos_lista(diretorio))\n",
    "    x_data = []\n",
    "    y_data = []\n",
    "    valores_V0_array = []\n",
    "    for i in range(len(dados_teste)):\n",
    "        ax = []\n",
    "        ay = []\n",
    "        for dado in dados_teste[i]:\n",
    "            ax.append(dado[0])\n",
    "            ay.append(dado[1])\n",
    "        x_data.append(ax)\n",
    "        y_data.append(ay)\n",
    "        \n",
    "    for i in range(len(x_data)):\n",
    "        x_data_p = []\n",
    "        y_data_p = []\n",
    "        x_data_n = []\n",
    "        y_data_n = []\n",
    "        for j in range(len(x_data[i])):\n",
    "            # if dado[1] < 0:\n",
    "            if y_data[i][j] < 0:\n",
    "                x_data_n.append(x_data[i][j])\n",
    "                y_data_n.append(y_data[i][j])\n",
    "            # elif dado[1] > 2e-8 and dado[0] <= 0:\n",
    "            elif y_data[i][j] > 0.1e-8 and x_data[i][j] < 0:\n",
    "                x_data_p.append(x_data[i][j])\n",
    "                y_data_p.append(y_data[i][j])\n",
    "        popt_p, pcov_p = curve_fit(\n",
    "            f = func,\n",
    "            xdata = x_data_p,\n",
    "            ydata = y_data_p\n",
    "        )\n",
    "        par_p = popt_p\n",
    "        perr_p = np.sqrt(np.diag(pcov_p))\n",
    "        \n",
    "        popt_n, pcov_n = curve_fit(\n",
    "            f = func,\n",
    "            xdata = x_data_n,\n",
    "            ydata = y_data_n\n",
    "        )\n",
    "        par_n = popt_n\n",
    "        perr_n = np.sqrt(np.diag(pcov_n))\n",
    "        \n",
    "        V0 = (par_p[1] - par_n[1])/(par_n[0]- par_p[0])\n",
    "        sV0 = -V0*np.sqrt((perr_p[1]**2 + perr_n[1]**2)/(par_p[1] - par_n[1])**2 + (perr_p[0]**2 + perr_n[0]**2)/(par_p[0] - par_n[0])**2)\n",
    "                \n",
    "        valores_V0_array.append([V0, sV0])\n",
    "        valores_V0_df = pd.DataFrame(valores_V0_array)\n",
    "    return valores_V0_df.mean()\n",
    "\n",
    "def metodo4(diretorio):\n",
    "    dados_teste = dados(arquivos_lista(diretorio))\n",
    "    x_data = []\n",
    "    y_data = []\n",
    "    valores_V0_array = []\n",
    "    for i in range(len(dados_teste)):\n",
    "        ax = []\n",
    "        ay = []\n",
    "        for dado in dados_teste[i]:\n",
    "            ax.append(dado[0])\n",
    "            ay.append(dado[1])\n",
    "        x_data.append(ax)\n",
    "        y_data.append(ay)\n",
    "        \n",
    "    for i in range(len(x_data)):\n",
    "        d2y_data = []\n",
    "        d2x_data = []\n",
    "        for j in range(len(x_data[i])):\n",
    "            # if dado[1] < 0:\n",
    "            if j > 1 and j < len(x_data[i]) - 2:\n",
    "                derivada = (y_data[i][j+2]+ y_data[i][j-2] - 2*y_data[i][j])/(x_data[i][j+1] - x_data[i][j-1])**2\n",
    "                d2y_data.append(derivada)\n",
    "                d2x_data.append(x_data[i][j])\n",
    "\n",
    "        for j in range(len(d2x_data)):\n",
    "            if d2y_data[j] > 0 and d2y_data[j+1] > d2y_data[j] and d2y_data[j+2] > d2y_data[j+1] and d2y_data[j+3] > d2y_data[j+2]:\n",
    "                V0 = d2x_data[j]\n",
    "                valores_V0_array.append(V0)\n",
    "                break\n",
    "        \n",
    "        valores_V0_df = pd.DataFrame(valores_V0_array)\n",
    "    return [valores_V0_df.mean(), valores_V0_df.std()]\n",
    "\n",
    "metodo4(dir_name_40)\n",
    "\n",
    "\n",
    "\n",
    "valores_V0 = [metodo1(dir_name_40)[0], metodo1(dir_name_60)[0], metodo1(dir_name_80)[0], metodo1(dir_name_100)[0]]\n",
    "sV0 = np.sqrt((metodo1(dir_name_40)[1]**2 + metodo1(dir_name_60)[1]**2 +  metodo1(dir_name_80)[1]**2 + metodo1(dir_name_100)[1]**2))/4\n",
    "valores_V0 = pd.DataFrame(valores_V0)\n",
    "\n",
    "valores_V0_2 = [metodo2(dir_name_40)[0], metodo2(dir_name_60)[0], metodo2(dir_name_80)[0], metodo2(dir_name_100)[0]]\n",
    "sV0_2 = np.sqrt((metodo2(dir_name_40)[1]**2 + metodo2(dir_name_60)[1]**2 +  metodo2(dir_name_80)[1]**2 + metodo2(dir_name_100)[1]**2))/4\n",
    "valores_V0_2 = pd.DataFrame(valores_V0_2)\n",
    "\n",
    "valores_V0_4 = [metodo4(dir_name_40)[0], metodo4(dir_name_60)[0], metodo4(dir_name_80)[0], metodo4(dir_name_100)[0]]\n",
    "sV0_4 = np.sqrt((metodo4(dir_name_40)[1]**2 + metodo4(dir_name_60)[1]**2 +  metodo4(dir_name_80)[1]**2 + metodo4(dir_name_100)[1]**2))/4\n",
    "valores_V0_4 = pd.DataFrame(valores_V0_4)\n",
    "\n",
    "\n"
   ]
  },
  {
   "cell_type": "code",
   "execution_count": 4,
   "metadata": {},
   "outputs": [
    {
     "data": {
      "text/plain": [
       "(-2.9026470662794477, 0.7381769156069323)"
      ]
     },
     "execution_count": 4,
     "metadata": {},
     "output_type": "execute_result"
    }
   ],
   "source": [
    "float(valores_V0.mean()), sV0"
   ]
  },
  {
   "cell_type": "code",
   "execution_count": 5,
   "metadata": {},
   "outputs": [
    {
     "data": {
      "text/plain": [
       "(-0.25359974721415557, 0.012838856642469507)"
      ]
     },
     "execution_count": 5,
     "metadata": {},
     "output_type": "execute_result"
    }
   ],
   "source": [
    "float(valores_V0_2.mean()), sV0_2"
   ]
  },
  {
   "cell_type": "code",
   "execution_count": 6,
   "metadata": {},
   "outputs": [
    {
     "data": {
      "text/plain": [
       "(-0.9456608709273182, 0.4023723747829847)"
      ]
     },
     "execution_count": 6,
     "metadata": {},
     "output_type": "execute_result"
    }
   ],
   "source": [
    "float(valores_V0_4.mean()), float(sV0_4)"
   ]
  },
  {
   "cell_type": "code",
   "execution_count": null,
   "metadata": {},
   "outputs": [
    {
     "data": {
      "text/plain": [
       "-0.9480685451409437"
      ]
     },
     "execution_count": 53,
     "metadata": {},
     "output_type": "execute_result"
    }
   ],
   "source": [
    "dados_teste = dados(arquivos_lista(dir_name_40))[0]\n",
    "x_data_1 = []\n",
    "y_data_1 = []\n",
    "valores_V0_array = []\n",
    "for dado in dados_teste:\n",
    "    x_data_1.append(dado[0])\n",
    "    y_data_1.append(dado[1])\n",
    "metodo1_x = []\n",
    "metodo1_y = []\n",
    "for i in range(len(x_data_1)):\n",
    "    if y_data_1[i]> 0:\n",
    "        metodo1_y.append(y_data_1[i-2])\n",
    "        metodo1_y.append(y_data_1[i-1])\n",
    "        metodo1_y.append(y_data_1[i])\n",
    "        metodo1_y.append(y_data_1[i+1])\n",
    "        metodo1_x.append(x_data_1[i-2])    \n",
    "        metodo1_x.append(x_data_1[i-1])    \n",
    "        metodo1_x.append(x_data_1[i])    \n",
    "        metodo1_x.append(x_data_1[i+1])  \n",
    "        break\n",
    "    \n",
    "popt, pcov = curve_fit(\n",
    "    f = func,\n",
    "    xdata = metodo1_x,\n",
    "    ydata = metodo1_y\n",
    ")\n",
    "par_1 = popt\n",
    "perr_1 = np.sqrt(np.diag(pcov))\n",
    "V0_1 = -par_1[1]/par_1[0]\n",
    "\n",
    "x_model_1 = np.array(metodo1_x)\n",
    "y_model_1= func(x_model_1, par_1[0], par_1[1])\n",
    "\n",
    "V0_1"
   ]
  },
  {
   "attachments": {},
   "cell_type": "markdown",
   "metadata": {},
   "source": [
    "Método 2\n"
   ]
  },
  {
   "cell_type": "code",
   "execution_count": 4,
   "metadata": {},
   "outputs": [],
   "source": [
    "dados_teste = dados(arquivos_lista(dir_name_40))[0]\n",
    "x_data_2 = []\n",
    "y_data_2 = []\n",
    "for dado in dados_teste:\n",
    "    x_data_2.append(dado[0])\n",
    "    y_data_2.append(dado[1])\n"
   ]
  },
  {
   "cell_type": "code",
   "execution_count": 7,
   "metadata": {},
   "outputs": [],
   "source": [
    "dados_teste = dados(arquivos_lista(dir_name_40))[0]\n",
    "x_data_p = []\n",
    "y_data_p = []\n",
    "x_data_n = []\n",
    "y_data_n = []\n",
    "\n",
    "for dado in dados_teste:\n",
    "    if dado[1] < 0:\n",
    "        x_data_n.append(dado[0])\n",
    "        y_data_n.append(dado[1])\n",
    "    elif dado[1] > 0.1e-8 and dado[0] <= 0:\n",
    "        x_data_p.append(dado[0])\n",
    "        y_data_p.append(dado[1])\n",
    "\n",
    "popt_p, pcov_p = curve_fit(\n",
    "    f = func,\n",
    "    xdata = x_data_p,\n",
    "    ydata = y_data_p\n",
    ")\n",
    "par_p = popt_p\n",
    "perr_p = np.sqrt(np.diag(pcov_p))\n",
    "\n",
    "popt_n, pcov_n = curve_fit(\n",
    "    f = func,\n",
    "    xdata = x_data_n,\n",
    "    ydata = y_data_n\n",
    ")\n",
    "par_n = popt_n\n",
    "perr_n = np.sqrt(np.diag(pcov_n))\n",
    "\n",
    "\n",
    "x_model_p = np.linspace(-0.5, max(x_data_p))  \n",
    "y_model_p = func(x_model_p, par_p[0], par_p[1])\n",
    "\n",
    "x_model_n = np.linspace(min(x_data_n), 0)  \n",
    "y_model_n = func(x_model_n, par_n[0], par_n[1])\n",
    "\n",
    "x_encontro = (par_p[1] - par_n[1])/(par_n[0]- par_p[0])\n"
   ]
  },
  {
   "attachments": {},
   "cell_type": "markdown",
   "metadata": {},
   "source": [
    "Método 3"
   ]
  },
  {
   "cell_type": "code",
   "execution_count": null,
   "metadata": {},
   "outputs": [],
   "source": [
    "dados_teste = dados(arquivos_lista(dir_name_40))[0]"
   ]
  },
  {
   "attachments": {},
   "cell_type": "markdown",
   "metadata": {},
   "source": [
    "Método 4\n"
   ]
  },
  {
   "cell_type": "code",
   "execution_count": null,
   "metadata": {},
   "outputs": [
    {
     "name": "stdout",
     "output_type": "stream",
     "text": [
      "4.464563000000002e-09\n"
     ]
    },
    {
     "data": {
      "text/plain": [
       "-0.7"
      ]
     },
     "execution_count": 30,
     "metadata": {},
     "output_type": "execute_result"
    }
   ],
   "source": [
    "dados_teste = dados(arquivos_lista(dir_name_40))[0]\n",
    "x_data = []\n",
    "y_data = []\n",
    "for dado in dados_teste:\n",
    "    x_data.append(dado[0])\n",
    "    y_data.append(dado[1])\n",
    "\n",
    "d2y_data = []\n",
    "d2x_data = []\n",
    "for i in range(len(x_data)):\n",
    "    if i > 1 and i < len(x_data) - 2:\n",
    "        derivada = (y_data[i+2]+ y_data[i-2] - 2*y_data[i])/(x_data[i+1] - x_data[i-1])**2\n",
    "        d2y_data.append(derivada)\n",
    "        d2x_data.append(x_data[i])\n",
    "\n",
    "x_data_reta = []\n",
    "y_data_reta = []\n",
    "for i in range(len(x_data)):\n",
    "    if x_data[i] >= -4 and x_data[i] <= -1.5:\n",
    "        x_data_reta.append(x_data[i])\n",
    "        y_data_reta.append(y_data[i])\n",
    "\n",
    "popt, pcov = curve_fit(\n",
    "    f = func,\n",
    "    xdata = x_data_reta,\n",
    "    ydata = y_data_reta\n",
    ")\n",
    "par_reta = popt\n",
    "perr_reta = np.sqrt(np.diag(pcov))\n",
    "\n",
    "\n",
    "x_model_reta = np.linspace(min(x_data_reta), max(x_data_reta) + 1)  \n",
    "y_model_reta = func(x_model_reta, par_reta[0], par_reta[1])\n",
    "\n",
    "def y_sigma(x):\n",
    "    return (par_reta[0] + perr_reta[0])*x + par_reta[1] + perr_reta[1]\n",
    "\n",
    "y_sigma_array = []\n",
    "x_sigma_array = np.linspace(min(x_data), max(x_data))\n",
    "\n",
    "for i in range(len(x_sigma_array)):\n",
    "    y_sigma_array.append(y_sigma(x_sigma_array[i]))\n",
    "\n",
    "for i in range(len(d2x_data)):\n",
    "    if d2y_data[i] > 0 and d2y_data[i+1] > d2y_data[i] and d2y_data[i+2] > d2y_data[i+1] and d2y_data[i+3] > d2y_data[i+2]:\n",
    "        V0 = d2x_data[i]\n",
    "        print(d2y_data[i])\n",
    "        break\n",
    "V0"
   ]
  },
  {
   "attachments": {},
   "cell_type": "markdown",
   "metadata": {},
   "source": [
    "Gráficos\n"
   ]
  },
  {
   "attachments": {},
   "cell_type": "markdown",
   "metadata": {},
   "source": [
    "G - Método 1\n"
   ]
  },
  {
   "cell_type": "code",
   "execution_count": null,
   "metadata": {},
   "outputs": [
    {
     "data": {
      "image/png": "[encoded data removed]",
      "text/plain": [
       "<Figure size 800x600 with 1 Axes>"
      ]
     },
     "metadata": {},
     "output_type": "display_data"
    }
   ],
   "source": [
    "\n",
    "graphWidth = 800\n",
    "graphHeight = 600\n",
    "\n",
    "f = plt.figure(figsize=(graphWidth/100.0, graphHeight/100.0), dpi=100)\n",
    "grafico = f.add_subplot(111)\n",
    "# plot dos pontos:\n",
    "grafico3 = grafico.plot(metodo1_x, metodo1_y, marker = '.', markersize=5, color = 'black', linewidth = 0)\n",
    "\n",
    "\n",
    "# plot(dir_name_40, 'black')\n",
    "# plot(dir_name_40, 'green')\n",
    "# plot(dir_name_60, 'blue')\n",
    "# plot(dir_name_100, 'red')\n",
    "\n",
    "\n",
    "# plot do ajuste\n",
    "grafico.plot(x_model_1, y_model_1,  color = 'red')\n",
    "\n",
    "\n",
    "grafico.axvline(x = V0_1, color = 'blue', label = f'$V_0$ = {V0_1: .2} V', linestyle = '--')\n",
    "grafico.axhline(y = 0, color = 'grey')\n",
    "\n",
    "\n",
    "\n",
    "grafico.grid(True)\n",
    "grafico.set_xlabel('Tensão (V)') # eixo x\n",
    "grafico.set_ylabel('Corrente (A)') # eixo y\n",
    "grafico.set_title('Led Amarelo (Método 1)') #título\n",
    "grafico.legend(loc = 'upper left', fontsize= 12)\n",
    "\n",
    "\n",
    "#    plt.savefig('Acr25graus.png')\n",
    "plt.show()\n"
   ]
  },
  {
   "attachments": {},
   "cell_type": "markdown",
   "metadata": {},
   "source": [
    "G - Método 2"
   ]
  },
  {
   "cell_type": "code",
   "execution_count": 6,
   "metadata": {},
   "outputs": [
    {
     "name": "stderr",
     "output_type": "stream",
     "text": [
      "No artists with labels found to put in legend.  Note that artists whose label start with an underscore are ignored when legend() is called with no argument.\n"
     ]
    },
    {
     "data": {
      "image/png": "[encoded data removed]",
      "text/plain": [
       "<Figure size 800x600 with 1 Axes>"
      ]
     },
     "metadata": {},
     "output_type": "display_data"
    }
   ],
   "source": [
    "\n",
    "graphWidth = 800\n",
    "graphHeight = 600\n",
    "\n",
    "f = plt.figure(figsize=(graphWidth/100.0, graphHeight/100.0), dpi=100)\n",
    "grafico = f.add_subplot(111)\n",
    "# plot dos pontos:\n",
    "grafico3 = grafico.plot(x_data_2, y_data_2, marker = '.', markersize=5, color = 'black', linewidth = 0)\n",
    "# grafico3 = grafico.plot(x_data_p, y_data_p, marker = '.', markersize=4, color = 'black', linewidth = 0)\n",
    "\n",
    "# plot(dir_name_40, 'black')\n",
    "# plot(dir_name_40, 'green')\n",
    "# plot(dir_name_60, 'blue')\n",
    "# plot(dir_name_100, 'red')\n",
    "\n",
    "\n",
    "# plot do ajuste\n",
    "# grafico.plot(x_model_n, y_model_n,  color = 'red')\n",
    "# grafico.plot(x_model_p, y_model_p,  color = 'red')\n",
    "\n",
    "# grafico.axvline(x = x_encontro, color = 'blue', label = f'$V_0$ = {x_encontro: .2} V', linestyle = '--')\n",
    "# grafico.axvline(x = 0, color = 'grey')\n",
    "# grafico.axhline(y = 0, color = 'grey')\n",
    "\n",
    "\n",
    "grafico.grid(True)\n",
    "grafico.set_xlabel('Tensão (V)') # eixo x\n",
    "grafico.set_ylabel('Corrente (A)') # eixo y\n",
    "grafico.set_title('Led Amarelo (Método 2)') #título\n",
    "grafico.legend(loc = 'upper left', fontsize= 12)\n",
    "\n",
    "plt.xlim(-2, 0.2)\n",
    "plt.ylim(-10e-9, 6e-8)\n",
    "\n",
    "#    plt.savefig('Acr25graus.png')\n",
    "plt.show()\n"
   ]
  },
  {
   "attachments": {},
   "cell_type": "markdown",
   "metadata": {},
   "source": [
    "G - Método 4\n"
   ]
  },
  {
   "cell_type": "code",
   "execution_count": null,
   "metadata": {},
   "outputs": [
    {
     "data": {
      "image/png": "[encoded data removed]",
      "text/plain": [
       "<Figure size 800x600 with 1 Axes>"
      ]
     },
     "metadata": {},
     "output_type": "display_data"
    }
   ],
   "source": [
    "\n",
    "graphWidth = 800\n",
    "graphHeight = 600\n",
    "\n",
    "f = plt.figure(figsize=(graphWidth/100.0, graphHeight/100.0), dpi=100)\n",
    "grafico = f.add_subplot(111)\n",
    "# plot dos pontos:\n",
    "grafico3 = grafico.plot(d2x_data, d2y_data, marker = '.', markersize=5, color = 'blue', linewidth = 1)\n",
    "\n",
    "grafico.axvline(x = V0, color = 'red', label = f'$V_0$ = {V0: .2} V', linestyle = '--')\n",
    "# grafico.axhline(y = 0, color = 'grey')\n",
    "\n",
    "plt.xlim(-5, 0.1)\n",
    "plt.ylim(-10e-9, 6e-8)\n",
    "grafico.grid(True)\n",
    "grafico.set_xlabel('Tensão (V)') # eixo x\n",
    "grafico.set_ylabel('Corrente (A)') # eixo y\n",
    "grafico.set_title('Led Amarelo (Método 4)') #título\n",
    "grafico.legend(loc = 'upper left', fontsize= 12)\n",
    "\n",
    "#    plt.savefig('Acr25graus.png')\n",
    "plt.show()\n"
   ]
  }
 ],
 "metadata": {
  "kernelspec": {
   "display_name": "Python 3",
   "language": "python",
   "name": "python3"
  },
  "language_info": {
   "codemirror_mode": {
    "name": "ipython",
    "version": 3
   },
   "file_extension": ".py",
   "mimetype": "text/x-python",
   "name": "python",
   "nbconvert_exporter": "python",
   "pygments_lexer": "ipython3",
   "version": "3.10.11"
  },
  "orig_nbformat": 4
 },
 "nbformat": 4,
 "nbformat_minor": 2
}
