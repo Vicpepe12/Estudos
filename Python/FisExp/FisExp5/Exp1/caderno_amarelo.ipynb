{
 "cells": [
  {
   "cell_type": "code",
   "execution_count": 1,
   "metadata": {},
   "outputs": [],
   "source": [
    "import os\n",
    "import numpy as np\n",
    "import pandas as pd\n",
    "import matplotlib.pyplot as plt\n",
    "import matplotlib.ticker as mticker\n",
    "from matplotlib.widgets import Cursor\n",
    "from scipy.optimize import curve_fit\n",
    "from scipy.optimize import differential_evolution\n",
    "from sympy import *\n",
    "plt.rcParams.update({'font.size': 12})\n",
    "formatter = mticker.ScalarFormatter(useMathText=True)\n",
    "plt.rcParams[\"axes.formatter.use_mathtext\"] = True"
   ]
  },
  {
   "cell_type": "code",
   "execution_count": 2,
   "metadata": {},
   "outputs": [],
   "source": [
    "cor = 'amarelo'\n",
    "dir_name_20 = './Dados/'+ cor + '/20/'\n",
    "dir_name_40 = './Dados/'+ cor + '/40/'\n",
    "dir_name_60 = './Dados/'+ cor + '/60/'\n",
    "dir_name_80 = './Dados/'+ cor + '/80/'\n",
    "dir_name_100 = './Dados/' + cor + '/100/'\n",
    "dir_name_color = './Dados/'+ cor + '/'"
   ]
  },
  {
   "cell_type": "code",
   "execution_count": 3,
   "metadata": {},
   "outputs": [],
   "source": [
    "ruido_array = np.array(pd.read_csv('./Dados/ruido_medio.csv', sep=\",\", header=None))\n",
    "ruido = []\n",
    "for ponto in ruido_array:\n",
    "    ruido.append(ponto[1])"
   ]
  },
  {
   "cell_type": "code",
   "execution_count": 4,
   "metadata": {},
   "outputs": [
    {
     "name": "stderr",
     "output_type": "stream",
     "text": [
      "C:\\Users\\victo\\AppData\\Local\\Packages\\PythonSoftwareFoundation.Python.3.10_qbz5n2kfra8p0\\LocalCache\\local-packages\\Python310\\site-packages\\scipy\\optimize\\_minpack_py.py:881: OptimizeWarning: Covariance of the parameters could not be estimated\n",
      "  warnings.warn('Covariance of the parameters could not be estimated',\n",
      "C:\\Users\\victo\\AppData\\Local\\Packages\\PythonSoftwareFoundation.Python.3.10_qbz5n2kfra8p0\\LocalCache\\local-packages\\Python310\\site-packages\\scipy\\optimize\\_minpack_py.py:881: OptimizeWarning: Covariance of the parameters could not be estimated\n",
      "  warnings.warn('Covariance of the parameters could not be estimated',\n",
      "C:\\Users\\victo\\AppData\\Local\\Packages\\PythonSoftwareFoundation.Python.3.10_qbz5n2kfra8p0\\LocalCache\\local-packages\\Python310\\site-packages\\scipy\\optimize\\_minpack_py.py:881: OptimizeWarning: Covariance of the parameters could not be estimated\n",
      "  warnings.warn('Covariance of the parameters could not be estimated',\n",
      "C:\\Users\\victo\\AppData\\Local\\Packages\\PythonSoftwareFoundation.Python.3.10_qbz5n2kfra8p0\\LocalCache\\local-packages\\Python310\\site-packages\\scipy\\optimize\\_minpack_py.py:881: OptimizeWarning: Covariance of the parameters could not be estimated\n",
      "  warnings.warn('Covariance of the parameters could not be estimated',\n",
      "C:\\Users\\victo\\AppData\\Local\\Packages\\PythonSoftwareFoundation.Python.3.10_qbz5n2kfra8p0\\LocalCache\\local-packages\\Python310\\site-packages\\scipy\\optimize\\_minpack_py.py:881: OptimizeWarning: Covariance of the parameters could not be estimated\n",
      "  warnings.warn('Covariance of the parameters could not be estimated',\n"
     ]
    }
   ],
   "source": [
    "def list_dir(dir_name, traversed = [], results = []): \n",
    "    dirs = os.listdir(dir_name)\n",
    "    if dirs:\n",
    "        for f in dirs:\n",
    "            new_dir = dir_name + f + '/'\n",
    "            if os.path.isdir(new_dir) and new_dir not in traversed:\n",
    "                traversed.append(new_dir)\n",
    "                list_dir(new_dir, traversed, results)\n",
    "            else:\n",
    "                results.append(new_dir[:-1])  \n",
    "    return results\n",
    "\n",
    "def arquivos_lista(dir_name):\n",
    "    arquivos_lista = []\n",
    "    for file_name in list_dir(dir_name):\n",
    "           arquivos_lista.append(file_name) # sample with file size\n",
    "    return arquivos_lista\n",
    "\n",
    "\n",
    "def dados(arquivos_lista):\n",
    "    arquivos = []\n",
    "    for arquivo in arquivos_lista:\n",
    "       df = pd.read_csv(arquivo, sep=\";\", decimal = ',')\n",
    "       dados_array = np.array(df)\n",
    "       arquivos.append(dados_array)\n",
    "    return arquivos\n",
    "\n",
    "def func(x, A, B):\n",
    "    return A*x + B\n",
    "\n",
    "def metodo1(diretorio):\n",
    "    dados_teste = dados(arquivos_lista(diretorio))\n",
    "    x_data = []\n",
    "    y_data = []\n",
    "    valores_V0_array = []\n",
    "    for i in range(len(dados_teste)):\n",
    "        ax = []\n",
    "        ay = []\n",
    "        for j in range(len(dados_teste[i])):\n",
    "            ax.append(dados_teste[i][j][0])\n",
    "            ay.append(dados_teste[i][j][1] - ruido[j])\n",
    "        x_data.append(ax)\n",
    "        y_data.append(ay)\n",
    "\n",
    "    for i in range(len(x_data)):\n",
    "        metodo1_x = []\n",
    "        metodo1_y = []\n",
    "        for j in range(len(x_data[i])):\n",
    "            if y_data[i][j] > 0:\n",
    "\n",
    "                metodo1_y.append(y_data[i][j-1])\n",
    "                metodo1_y.append(y_data[i][j])\n",
    "                metodo1_x.append(x_data[i][j-1])    \n",
    "                metodo1_x.append(x_data[i][j])        \n",
    "                break\n",
    "        popt, pcov = curve_fit(\n",
    "            f = func,\n",
    "            xdata = metodo1_x,\n",
    "            ydata = metodo1_y\n",
    "        )\n",
    "\n",
    "        par = popt\n",
    "        perr = np.sqrt(np.diag(pcov))\n",
    "\n",
    "        V0 = -par[1]/par[0]\n",
    "        sV0 = -V0*np.sqrt(perr[1]**2/par[1]**2 + perr[0]**2/par[0]**2)\n",
    "        valores_V0_array.append([V0, sV0])\n",
    "\n",
    "    valores_V0_df = pd.DataFrame(valores_V0_array)\n",
    "    return valores_V0_df.mean()\n",
    "\n",
    "def metodo2(diretorio):\n",
    "    dados_teste = dados(arquivos_lista(diretorio))\n",
    "    x_data = []\n",
    "    y_data = []\n",
    "    valores_V0_array = []\n",
    "    for i in range(len(dados_teste)):\n",
    "        ax = []\n",
    "        ay = []\n",
    "        for j in range(len(dados_teste[i])):\n",
    "            ax.append(dados_teste[i][j][0])\n",
    "            ay.append(dados_teste[i][j][1] - ruido[j])\n",
    "        x_data.append(ax)\n",
    "        y_data.append(ay)\n",
    "        \n",
    "    for i in range(len(x_data)):\n",
    "        x_data_p = []\n",
    "        y_data_p = []\n",
    "        x_data_n = []\n",
    "        y_data_n = []\n",
    "        for j in range(len(x_data[i])):\n",
    "            # if dado[1] < 0:\n",
    "            if y_data[i][j] < 0:\n",
    "                x_data_n.append(x_data[i][j])\n",
    "                y_data_n.append(y_data[i][j])\n",
    "            # elif dado[1] > 2e-8 and dado[0] <= 0:\n",
    "            elif y_data[i][j] > 0.8e-8 and x_data[i][j] < 0:\n",
    "                x_data_p.append(x_data[i][j])\n",
    "                y_data_p.append(y_data[i][j])\n",
    "        popt_p, pcov_p = curve_fit(\n",
    "            f = func,\n",
    "            xdata = x_data_p,\n",
    "            ydata = y_data_p\n",
    "        )\n",
    "        par_p = popt_p\n",
    "        perr_p = np.sqrt(np.diag(pcov_p))\n",
    "        \n",
    "        popt_n, pcov_n = curve_fit(\n",
    "            f = func,\n",
    "            xdata = x_data_n,\n",
    "            ydata = y_data_n\n",
    "        )\n",
    "        par_n = popt_n\n",
    "        perr_n = np.sqrt(np.diag(pcov_n))\n",
    "        \n",
    "        V0 = (par_p[1] - par_n[1])/(par_n[0]- par_p[0])\n",
    "        sV0 = -V0*np.sqrt((perr_p[1]**2 + perr_n[1]**2)/(par_p[1] - par_n[1])**2 + (perr_p[0]**2 + perr_n[0]**2)/(par_p[0] - par_n[0])**2)\n",
    "                \n",
    "        valores_V0_array.append([V0, sV0])\n",
    "        valores_V0_df = pd.DataFrame(valores_V0_array)\n",
    "    return valores_V0_df.mean()\n",
    "\n",
    "def metodo4(diretorio):\n",
    "    dados_teste = dados(arquivos_lista(diretorio))\n",
    "    x_data = []\n",
    "    y_data = []\n",
    "    valores_V0_array = []\n",
    "    for i in range(len(dados_teste)):\n",
    "        ax = []\n",
    "        ay = []\n",
    "        for j in range(len(dados_teste[i])):\n",
    "            ax.append(dados_teste[i][j][0])\n",
    "            ay.append(dados_teste[i][j][1] - ruido[j])\n",
    "        x_data.append(ax)\n",
    "        y_data.append(ay)\n",
    "        \n",
    "    for i in range(len(x_data)):\n",
    "        d2y_data = []\n",
    "        d2x_data = []\n",
    "        for j in range(len(x_data[i])):\n",
    "            # if dado[1] < 0:\n",
    "            if j > 1 and j < len(x_data[i]) - 2:\n",
    "                derivada = (y_data[i][j+2]+ y_data[i][j-2] - 2*y_data[i][j])/(x_data[i][j+1] - x_data[i][j-1])**2\n",
    "                d2y_data.append(derivada)\n",
    "                d2x_data.append(x_data[i][j])\n",
    "\n",
    "        for j in range(len(d2x_data)):\n",
    "            if d2y_data[j] > 0 and d2y_data[j+1] > d2y_data[j] and d2y_data[j+2] > d2y_data[j+1] and d2y_data[j+3] > d2y_data[j+2]:\n",
    "                V0 = d2x_data[j]\n",
    "                valores_V0_array.append(V0)\n",
    "                break\n",
    "        \n",
    "        valores_V0_df = pd.DataFrame(valores_V0_array)\n",
    "    return [valores_V0_df.mean(), valores_V0_df.std()]\n",
    "\n",
    "def media_intensidade(dir_name):\n",
    "\n",
    "    teste = dados(arquivos_lista(dir_name))\n",
    "\n",
    "    media_y = []\n",
    "    data_y = []\n",
    "    for i in range(len(teste)):\n",
    "        for j in range(len(teste[i])):\n",
    "            if len(data_y) < len(teste[i]):\n",
    "                data_y.append(0)\n",
    "            data_y[j] += teste[i][j][1] - ruido[i]\n",
    "\n",
    "    for dado in data_y:\n",
    "        media_y.append(dado/10)\n",
    "\n",
    "    plot_x = []\n",
    "    for i in range(len(media_y)):\n",
    "        plot_x.append(teste[0][i][0])\n",
    "    return [plot_x, media_y]\n",
    "\n",
    "medias = []\n",
    "medias.append(media_intensidade(dir_name_20)[1])\n",
    "medias.append(media_intensidade(dir_name_40)[1])\n",
    "medias.append(media_intensidade(dir_name_60)[1])\n",
    "medias.append(media_intensidade(dir_name_80)[1])\n",
    "medias.append(media_intensidade(dir_name_100)[1])\n",
    "\n",
    "data_x = (media_intensidade(dir_name_20)[0])\n",
    "\n",
    "valores_v0 = []\n",
    "for i in range(len(medias)):\n",
    "    for j in range(i+1, len(medias)):\n",
    "        for k in range(len(medias[i])):\n",
    "            if (medias[i][k] - medias[j][k]) == 0:\n",
    "                valores_v0.append(data_x[k])\n",
    "                break\n",
    "            elif (medias[i][k] - medias[j][k])*(medias[i][k+1] - medias[j][k+1]) < 0:\n",
    "                popt, pcov = curve_fit(\n",
    "                    f = func,\n",
    "                    xdata = [data_x[k], data_x[k+1]],\n",
    "                    ydata = [(medias[i][k] - medias[j][k]),(medias[i][k+1] - medias[j][k+1])]\n",
    "                )\n",
    "                par = popt\n",
    "                V0_3 = -par[1]/par[0]\n",
    "                valores_v0.append(V0_3)\n",
    "                break\n",
    "\n",
    "\n",
    "\n",
    "\n",
    "\n",
    "valores_V0 = [metodo1(dir_name_40)[0], metodo1(dir_name_60)[0], metodo1(dir_name_80)[0], metodo1(dir_name_100)[0]]\n",
    "valores_V0 = pd.DataFrame(valores_V0)\n",
    "\n",
    "valores_V0_2 = [metodo2(dir_name_40)[0], metodo2(dir_name_60)[0], metodo2(dir_name_80)[0], metodo2(dir_name_100)[0]]\n",
    "sV0_2 = np.sqrt((metodo2(dir_name_40)[1]**2 + metodo2(dir_name_60)[1]**2 +  metodo2(dir_name_80)[1]**2 + metodo2(dir_name_100)[1]**2))/4\n",
    "valores_V0_2 = pd.DataFrame(valores_V0_2)\n",
    "\n",
    "valores_V0_4 = [metodo4(dir_name_40)[0], metodo4(dir_name_60)[0], metodo4(dir_name_80)[0], metodo4(dir_name_100)[0]]\n",
    "sV0_4 = np.sqrt((metodo4(dir_name_40)[1]**2 + metodo4(dir_name_60)[1]**2 +  metodo4(dir_name_80)[1]**2 + metodo4(dir_name_100)[1]**2))/4\n",
    "valores_V0_4 = pd.DataFrame(valores_V0_4)\n",
    "\n",
    "\n",
    "\n",
    "valores_v0_3_df = pd.DataFrame(valores_v0)\n",
    "# valores_v0_3_df.describe()\n",
    "\n"
   ]
  },
  {
   "attachments": {},
   "cell_type": "markdown",
   "metadata": {},
   "source": [
    "Método 1:"
   ]
  },
  {
   "cell_type": "code",
   "execution_count": 5,
   "metadata": {},
   "outputs": [
    {
     "data": {
      "text/plain": [
       "(-1.0291968280255415, 0.04922476056627769)"
      ]
     },
     "execution_count": 5,
     "metadata": {},
     "output_type": "execute_result"
    }
   ],
   "source": [
    "float(valores_V0.mean()), float(valores_V0.std())"
   ]
  },
  {
   "attachments": {},
   "cell_type": "markdown",
   "metadata": {},
   "source": [
    "Método 2:"
   ]
  },
  {
   "cell_type": "code",
   "execution_count": 6,
   "metadata": {},
   "outputs": [
    {
     "data": {
      "text/plain": [
       "(-0.3300680688974297, 0.007815427247698313)"
      ]
     },
     "execution_count": 6,
     "metadata": {},
     "output_type": "execute_result"
    }
   ],
   "source": [
    "float(valores_V0_2.mean()), sV0_2"
   ]
  },
  {
   "attachments": {},
   "cell_type": "markdown",
   "metadata": {},
   "source": [
    "Método 3"
   ]
  },
  {
   "cell_type": "code",
   "execution_count": 7,
   "metadata": {},
   "outputs": [
    {
     "data": {
      "text/plain": [
       "(-0.8352017398808383, 0.14016614531928753)"
      ]
     },
     "execution_count": 7,
     "metadata": {},
     "output_type": "execute_result"
    }
   ],
   "source": [
    "float(valores_v0_3_df.mean()), np.sqrt(0.02**2 + float(valores_v0_3_df.std())**2)"
   ]
  },
  {
   "attachments": {},
   "cell_type": "markdown",
   "metadata": {},
   "source": [
    "Método 4:"
   ]
  },
  {
   "cell_type": "code",
   "execution_count": 8,
   "metadata": {},
   "outputs": [
    {
     "data": {
      "text/plain": [
       "(-0.9353044400774665, 0.16422322428828992)"
      ]
     },
     "execution_count": 8,
     "metadata": {},
     "output_type": "execute_result"
    }
   ],
   "source": [
    "float(valores_V0_4.mean()), float(sV0_4)"
   ]
  },
  {
   "attachments": {},
   "cell_type": "markdown",
   "metadata": {},
   "source": [
    "Exportação"
   ]
  },
  {
   "cell_type": "code",
   "execution_count": null,
   "metadata": {},
   "outputs": [],
   "source": [
    "valores_V0 = pd.DataFrame({\n",
    "    'Método': [1, 2, 3, 4],\n",
    "    'V_0': [float(valores_V0.mean()), float(valores_V0_2.mean()), float(valores_v0_3_df.mean()), float(valores_V0_4.mean())],\n",
    "    'sV_0': [float(valores_V0.std()),  sV0_2, np.sqrt(0.02**2 + float(valores_v0_3_df.std())**2), float(sV0_4)]\n",
    "})\n",
    "valores_V0.to_csv('./Dados/' + cor + '.csv')"
   ]
  },
  {
   "attachments": {},
   "cell_type": "markdown",
   "metadata": {},
   "source": [
    "Método 1"
   ]
  },
  {
   "cell_type": "code",
   "execution_count": 9,
   "metadata": {},
   "outputs": [
    {
     "name": "stderr",
     "output_type": "stream",
     "text": [
      "C:\\Users\\victo\\AppData\\Local\\Packages\\PythonSoftwareFoundation.Python.3.10_qbz5n2kfra8p0\\LocalCache\\local-packages\\Python310\\site-packages\\scipy\\optimize\\_minpack_py.py:881: OptimizeWarning: Covariance of the parameters could not be estimated\n",
      "  warnings.warn('Covariance of the parameters could not be estimated',\n"
     ]
    },
    {
     "data": {
      "text/plain": [
       "-1.8082925558365979"
      ]
     },
     "execution_count": 9,
     "metadata": {},
     "output_type": "execute_result"
    }
   ],
   "source": [
    "dados_teste = dados(arquivos_lista(dir_name_40))[3]\n",
    "x_data_1 = []\n",
    "y_data_1 = []\n",
    "valores_V0_array = []\n",
    "for k in range(len(dados_teste)):\n",
    "    x_data_1.append(dados_teste[k][0])\n",
    "    y_data_1.append(dados_teste[k][1] - ruido[k])\n",
    "metodo1_x = []\n",
    "metodo1_y = []\n",
    "for i in range(len(x_data_1)):\n",
    "    if y_data_1[i]> 0:\n",
    "        metodo1_y.append(y_data_1[i-1])\n",
    "        metodo1_y.append(y_data_1[i])   \n",
    "        metodo1_x.append(x_data_1[i-1])    \n",
    "        metodo1_x.append(x_data_1[i])    \n",
    "        break\n",
    "    \n",
    "popt, pcov = curve_fit(\n",
    "    f = func,\n",
    "    xdata = metodo1_x,\n",
    "    ydata = metodo1_y\n",
    ")\n",
    "par_1 = popt\n",
    "perr_1 = np.sqrt(np.diag(pcov))\n",
    "V0_1 = -par_1[1]/par_1[0]\n",
    "\n",
    "x_model_1 = np.array(metodo1_x)\n",
    "y_model_1= func(x_model_1, par_1[0], par_1[1])\n",
    "\n",
    "V0_1"
   ]
  },
  {
   "attachments": {},
   "cell_type": "markdown",
   "metadata": {},
   "source": [
    "Método 2\n"
   ]
  },
  {
   "cell_type": "code",
   "execution_count": 10,
   "metadata": {},
   "outputs": [],
   "source": [
    "dados_teste = dados(arquivos_lista(dir_name_40))[0]\n",
    "x_data_2 = []\n",
    "y_data_2 = []\n",
    "for i in range(len(dados_teste)):\n",
    "    x_data_2.append(dados_teste[i][0])\n",
    "    y_data_2.append(dados_teste[i][1] - ruido[i])\n"
   ]
  },
  {
   "cell_type": "code",
   "execution_count": 11,
   "metadata": {},
   "outputs": [
    {
     "name": "stdout",
     "output_type": "stream",
     "text": [
      "[9.291778e-09, 1.210087e-08, 1.51485e-08, 2.02744e-08]\n"
     ]
    }
   ],
   "source": [
    "dados_teste = dados(arquivos_lista(dir_name_40))[0]\n",
    "def func(x, A, B):\n",
    "    return A*x + B\n",
    "x_data_p = []\n",
    "y_data_p = []\n",
    "x_data_n = []\n",
    "y_data_n = []\n",
    "\n",
    "for i in range(len(dados_teste)):\n",
    "    if dados_teste[i][1] - ruido[i] < 0:\n",
    "        x_data_n.append(dados_teste[i][0])\n",
    "        y_data_n.append(dados_teste[i][1] - ruido[i])\n",
    "    elif dados_teste[i][1] - ruido[i] > 0.8e-8 and dados_teste[i][0] <= 0:\n",
    "        x_data_p.append(dados_teste[i][0])\n",
    "        y_data_p.append(dados_teste[i][1])\n",
    "\n",
    "print(y_data_p)\n",
    "\n",
    "popt_p, pcov_p = curve_fit(\n",
    "    f = func,\n",
    "    xdata = x_data_p,\n",
    "    ydata = y_data_p\n",
    ")\n",
    "par_p = popt_p\n",
    "perr_p = np.sqrt(np.diag(pcov_p))\n",
    "\n",
    "popt_n, pcov_n = curve_fit(\n",
    "    f = func,\n",
    "    xdata = x_data_n,\n",
    "    ydata = y_data_n\n",
    ")\n",
    "par_n = popt_n\n",
    "perr_n = np.sqrt(np.diag(pcov_n))\n",
    "\n",
    "\n",
    "x_model_p = np.linspace(-0.5, max(x_data_p))  \n",
    "y_model_p = func(x_model_p, par_p[0], par_p[1])\n",
    "\n",
    "x_model_n = np.linspace(min(x_data_n), 0)  \n",
    "y_model_n = func(x_model_n, par_n[0], par_n[1])\n",
    "\n",
    "x_encontro = (par_p[1] - par_n[1])/(par_n[0]- par_p[0])\n"
   ]
  },
  {
   "attachments": {},
   "cell_type": "markdown",
   "metadata": {},
   "source": [
    "Método 3"
   ]
  },
  {
   "cell_type": "code",
   "execution_count": 12,
   "metadata": {},
   "outputs": [],
   "source": [
    "# graphWidth = 800\n",
    "# graphHeight = 600\n",
    "\n",
    "# f = plt.figure(figsize=(graphWidth/100.0, graphHeight/100.0), dpi=100)\n",
    "# grafico = f.add_subplot(111)\n",
    "\n",
    "# def plot_teste(dir_name, color_plot, label_plot):\n",
    "\n",
    "#     teste = dados(arquivos_lista(dir_name))\n",
    "\n",
    "#     media_y = []\n",
    "#     data_y = []\n",
    "#     for i in range(len(teste)):\n",
    "#         for j in range(len(teste[i])):\n",
    "#             if len(data_y) < len(teste[i]):\n",
    "#                 data_y.append(0)\n",
    "#             data_y[j] += teste[i][j][1] - ruido[j]\n",
    "           \n",
    "\n",
    "#     for dado in data_y:\n",
    "#         media_y.append(dado/10)\n",
    "\n",
    "#     plot_x = []\n",
    "#     for i in range(len(media_y)):\n",
    "#         plot_x.append(teste[0][i][0])\n",
    "\n",
    "#     grafico.plot(plot_x, media_y, marker = '.', markersize=3, color = color_plot, linewidth = 1, label = label_plot)\n",
    "\n",
    "# plot_teste(dir_name_20, 'orange', 'Intensidade: 20%')\n",
    "# plot_teste(dir_name_40, 'red', 'Intensidade: 40%')\n",
    "# plot_teste(dir_name_60, 'blue', 'Intensidade: 60%')\n",
    "# plot_teste(dir_name_80, 'green', 'Intensidade: 80%')\n",
    "# plot_teste(dir_name_100, 'black', 'Intensidade: 100%')\n",
    "\n",
    "# plt.xlim(-0.8, -0.65)\n",
    "# plt.ylim(-3e-9, 3e-9)\n",
    "\n",
    "# grafico.grid(True)\n",
    "# grafico.set_xlabel('Tensão (V)') # eixo x\n",
    "# grafico.set_ylabel('Corrente (A)') # eixo y\n",
    "# grafico.set_title('Led Amarelo (Método 3)') #título\n",
    "# grafico.legend(loc = 'lower right', fontsize= 12)\n",
    "\n",
    "\n"
   ]
  },
  {
   "attachments": {},
   "cell_type": "markdown",
   "metadata": {},
   "source": [
    "Método 4\n"
   ]
  },
  {
   "cell_type": "code",
   "execution_count": 13,
   "metadata": {},
   "outputs": [
    {
     "name": "stdout",
     "output_type": "stream",
     "text": [
      "5.459383309999996e-09\n"
     ]
    },
    {
     "data": {
      "text/plain": [
       "-0.65"
      ]
     },
     "execution_count": 13,
     "metadata": {},
     "output_type": "execute_result"
    }
   ],
   "source": [
    "dados_teste = dados(arquivos_lista(dir_name_40))[0]\n",
    "x_data = []\n",
    "y_data = []\n",
    "for i in range(len(dados_teste)):\n",
    "    x_data.append(dados_teste[i][0])\n",
    "    y_data.append(dados_teste[i][1] - ruido[i])\n",
    "\n",
    "d2y_data = []\n",
    "d2x_data = []\n",
    "for i in range(len(x_data)):\n",
    "    if i > 1 and i < len(x_data) - 2:\n",
    "        derivada = (y_data[i+2]+ y_data[i-2] - 2*y_data[i])/(x_data[i+1] - x_data[i-1])**2\n",
    "        d2y_data.append(derivada)\n",
    "        d2x_data.append(x_data[i])\n",
    "\n",
    "x_data_reta = []\n",
    "y_data_reta = []\n",
    "for i in range(len(x_data)):\n",
    "    if x_data[i] >= -4 and x_data[i] <= -1.5:\n",
    "        x_data_reta.append(x_data[i])\n",
    "        y_data_reta.append(y_data[i])\n",
    "\n",
    "popt, pcov = curve_fit(\n",
    "    f = func,\n",
    "    xdata = x_data_reta,\n",
    "    ydata = y_data_reta\n",
    ")\n",
    "par_reta = popt\n",
    "perr_reta = np.sqrt(np.diag(pcov))\n",
    "\n",
    "\n",
    "x_model_reta = np.linspace(min(x_data_reta), max(x_data_reta) + 1)  \n",
    "y_model_reta = func(x_model_reta, par_reta[0], par_reta[1])\n",
    "\n",
    "def y_sigma(x):\n",
    "    return (par_reta[0] + perr_reta[0])*x + par_reta[1] + perr_reta[1]\n",
    "\n",
    "y_sigma_array = []\n",
    "x_sigma_array = np.linspace(min(x_data), max(x_data))\n",
    "\n",
    "for i in range(len(x_sigma_array)):\n",
    "    y_sigma_array.append(y_sigma(x_sigma_array[i]))\n",
    "\n",
    "for i in range(len(d2x_data)):\n",
    "    if d2y_data[i] > 0 and d2y_data[i+1] > d2y_data[i] and d2y_data[i+2] > d2y_data[i+1] and d2y_data[i+3] > d2y_data[i+2]:\n",
    "        V0 = d2x_data[i]\n",
    "        print(d2y_data[i])\n",
    "        break\n",
    "V0"
   ]
  },
  {
   "attachments": {},
   "cell_type": "markdown",
   "metadata": {},
   "source": [
    "Gráficos\n"
   ]
  },
  {
   "attachments": {},
   "cell_type": "markdown",
   "metadata": {},
   "source": [
    "G - Método 1\n"
   ]
  },
  {
   "cell_type": "code",
   "execution_count": 14,
   "metadata": {},
   "outputs": [
    {
     "data": {
      "image/png": "[encoded data removed]",
      "text/plain": [
       "<Figure size 800x600 with 1 Axes>"
      ]
     },
     "metadata": {},
     "output_type": "display_data"
    }
   ],
   "source": [
    "graphWidth = 800\n",
    "graphHeight = 600\n",
    "\n",
    "f = plt.figure(figsize=(graphWidth/100.0, graphHeight/100.0), dpi=100)\n",
    "grafico = f.add_subplot(111)\n",
    "# plot dos pontos:\n",
    "grafico3 = grafico.plot(metodo1_x, metodo1_y, marker = '.', markersize=5, color = 'black', linewidth = 0)\n",
    "\n",
    "\n",
    "# plot(dir_name_40, 'black')\n",
    "# plot(dir_name_40, 'green')\n",
    "# plot(dir_name_60, 'blue')\n",
    "# plot(dir_name_100, 'red')\n",
    "\n",
    "\n",
    "# plot do ajuste\n",
    "grafico.plot(x_model_1, y_model_1,  color = 'red')\n",
    "\n",
    "\n",
    "grafico.axvline(x = V0_1, color = 'blue', label = f'$V_0$ = {V0_1: .2} V', linestyle = '--')\n",
    "grafico.axhline(y = 0, color = 'grey')\n",
    "\n",
    "\n",
    "\n",
    "grafico.grid(True)\n",
    "grafico.set_xlabel('Tensão (V)') # eixo x\n",
    "grafico.set_ylabel('Corrente (A)') # eixo y\n",
    "grafico.set_title('Led Amarelo (Método 1)') #título\n",
    "grafico.legend(loc = 'upper left', fontsize= 12)\n",
    "\n",
    "\n",
    "#    plt.savefig('Acr25graus.png')\n",
    "plt.show()\n"
   ]
  },
  {
   "attachments": {},
   "cell_type": "markdown",
   "metadata": {},
   "source": [
    "G - Método 2"
   ]
  },
  {
   "cell_type": "code",
   "execution_count": 15,
   "metadata": {},
   "outputs": [
    {
     "data": {
      "image/png": "[encoded data removed]",
      "text/plain": [
       "<Figure size 800x600 with 1 Axes>"
      ]
     },
     "metadata": {},
     "output_type": "display_data"
    }
   ],
   "source": [
    "\n",
    "graphWidth = 800\n",
    "graphHeight = 600\n",
    "\n",
    "f = plt.figure(figsize=(graphWidth/100.0, graphHeight/100.0), dpi=100)\n",
    "grafico = f.add_subplot(111)\n",
    "# plot dos pontos:\n",
    "grafico3 = grafico.plot(x_data_2, y_data_2, marker = '.', markersize=5, color = 'black', linewidth = 0)\n",
    "# grafico3 = grafico.plot(x_data_p, y_data_p, marker = '.', markersize=4, color = 'black', linewidth = 0)\n",
    "\n",
    "# plot(dir_name_40, 'black')\n",
    "# plot(dir_name_40, 'green')\n",
    "# plot(dir_name_60, 'blue')\n",
    "# plot(dir_name_100, 'red')\n",
    "\n",
    "\n",
    "# plot do ajuste\n",
    "grafico.plot(x_model_n, y_model_n,  color = 'red')\n",
    "grafico.plot(x_model_p, y_model_p,  color = 'red')\n",
    "\n",
    "grafico.axvline(x = x_encontro, color = 'blue', label = f'$V_0$ = {x_encontro: .2} V', linestyle = '--')\n",
    "# grafico.axvline(x = 0, color = 'grey')\n",
    "# grafico.axhline(y = 0, color = 'grey')\n",
    "\n",
    "\n",
    "grafico.grid(True)\n",
    "grafico.set_xlabel('Tensão (V)') # eixo x\n",
    "grafico.set_ylabel('Corrente (A)') # eixo y\n",
    "grafico.set_title('Led Amarelo (Método 2)') #título\n",
    "grafico.legend(loc = 'upper left', fontsize= 12)\n",
    "\n",
    "plt.xlim(-2, 0.1)\n",
    "plt.ylim(-10e-9, 6e-8)\n",
    "\n",
    "#    plt.savefig('Acr25graus.png')\n",
    "plt.show()\n"
   ]
  },
  {
   "attachments": {},
   "cell_type": "markdown",
   "metadata": {},
   "source": [
    "G - Método 3"
   ]
  },
  {
   "cell_type": "code",
   "execution_count": 16,
   "metadata": {},
   "outputs": [
    {
     "data": {
      "image/png": "[encoded data removed]",
      "text/plain": [
       "<Figure size 800x600 with 1 Axes>"
      ]
     },
     "metadata": {},
     "output_type": "display_data"
    }
   ],
   "source": [
    "graphWidth = 800\n",
    "graphHeight = 600\n",
    "\n",
    "f = plt.figure(figsize=(graphWidth/100.0, graphHeight/100.0), dpi=100)\n",
    "grafico = f.add_subplot(111)"
   ]
  },
  {
   "attachments": {},
   "cell_type": "markdown",
   "metadata": {},
   "source": [
    "G - Método 4\n"
   ]
  },
  {
   "cell_type": "code",
   "execution_count": 17,
   "metadata": {},
   "outputs": [
    {
     "data": {
      "image/png": "[encoded data removed]",
      "text/plain": [
       "<Figure size 800x600 with 1 Axes>"
      ]
     },
     "metadata": {},
     "output_type": "display_data"
    }
   ],
   "source": [
    "\n",
    "graphWidth = 800\n",
    "graphHeight = 600\n",
    "\n",
    "f = plt.figure(figsize=(graphWidth/100.0, graphHeight/100.0), dpi=100)\n",
    "grafico = f.add_subplot(111)\n",
    "# plot dos pontos:\n",
    "grafico3 = grafico.plot(d2x_data, d2y_data, marker = '.', markersize=5, color = 'blue', linewidth = 1)\n",
    "\n",
    "grafico.axvline(x = V0, color = 'red', label = f'$V_0$ = {V0: .2} V', linestyle = '--')\n",
    "# grafico.axhline(y = 0, color = 'grey')\n",
    "\n",
    "plt.xlim(-5, 0.1)\n",
    "plt.ylim(-10e-9, 6e-8)\n",
    "grafico.grid(True)\n",
    "grafico.set_xlabel('Tensão (V)') # eixo x\n",
    "grafico.set_ylabel('Corrente (A)') # eixo y\n",
    "grafico.set_title('Led Amarelo (Método 4)') #título\n",
    "grafico.legend(loc = 'upper left', fontsize= 12)\n",
    "\n",
    "#    plt.savefig('Acr25graus.png')\n",
    "plt.show()\n"
   ]
  }
 ],
 "metadata": {
  "kernelspec": {
   "display_name": "Python 3",
   "language": "python",
   "name": "python3"
  },
  "language_info": {
   "codemirror_mode": {
    "name": "ipython",
    "version": 3
   },
   "file_extension": ".py",
   "mimetype": "text/x-python",
   "name": "python",
   "nbconvert_exporter": "python",
   "pygments_lexer": "ipython3",
   "version": "3.10.11"
  },
  "orig_nbformat": 4
 },
 "nbformat": 4,
 "nbformat_minor": 2
}
